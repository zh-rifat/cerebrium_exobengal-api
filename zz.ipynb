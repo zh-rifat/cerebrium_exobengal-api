{
 "cells": [
  {
   "cell_type": "code",
   "execution_count": 7,
   "id": "30dfc5d2",
   "metadata": {},
   "outputs": [],
   "source": [
    "from exobengal.exobengal import DetectExoplanet, ExoParams\n",
    "\n",
    "detector_rf = DetectExoplanet()\n",
    "# detector_dt = DetectExoplanet(\n",
    "#   # dt_model_path='./models/decision_tree_classifier.pkl',\n",
    "# )\n",
    "\n",
    "# detector_cnn = DetectExoplanet(\n",
    "#   # cnn_model_path='./models/cnn_model.h5',\n",
    "# )\n",
    "\n",
    "# detector_knn = DetectExoplanet(\n",
    "#   # knn_model_path='./models/knn_model.pkl',\n",
    "# )\n"
   ]
  },
  {
   "cell_type": "code",
   "execution_count": 3,
   "id": "09f38acd",
   "metadata": {},
   "outputs": [],
   "source": [
    "data = {\n",
    "  \"earth_like\": [365.25, 1.0, 288.0, 1.0, 4.44, 5778, 0.0, 13.0, 84.0],\n",
    "  \"hot_jupiter\": [3.5, 1.2, 1200.0, 1.1, 4.3, 6000, 0.2, 2.5, 5000.0],\n",
    "  \"super_earth\": [50.0, 1.8, 350.0, 0.9, 4.5, 5200, 0.3, 8.0, 250.0],\n",
    "  \"mini_neptune\": [12.0, 2.5, 600.0, 1.2, 4.2, 5800, 0.15, 4.0, 800.0],\n",
    "  \"cold_jupiter\": [2000.0, 11.0, 150.0, 1.0, 4.4, 5500, 0.8, 25.0, 8000.0],\n",
    "  \"venus_like\": [225.0, 0.95, 735.0, 1.0, 4.44, 5778, 0.1, 11.0, 80.0],\n",
    "  \"mars_like\": [687.0, 0.53, 210.0, 1.0, 4.44, 3389, 0.05, 18.0, 28.0],\n",
    "  \"eccentric_planet\": [120.0, 1.5, 400.0, 0.8, 4.6, 4800, 0.7, 6.0, 300.0],\n",
    "  \"very_close\": [0.8, 1.1, 2000.0, 1.3, 4.1, 6500, 0.0, 1.2, 2000.0],\n",
    "  \"distant_rocky\": [800.0, 0.8, 180.0, 0.7, 4.7, 4500, 0.4, 20.0, 45.0]\n",
    "}\n"
   ]
  },
  {
   "cell_type": "code",
   "execution_count": 6,
   "id": "d7071be9",
   "metadata": {},
   "outputs": [
    {
     "name": "stdout",
     "output_type": "stream",
     "text": [
      "[365.25, 1.0, 288.0, 1.0, 4.44, 5778, 0.0, 13.0, 84.0]\n",
      "input array: [[ 0.21696578 -0.03375572 -0.94938527 -0.12126083  0.30602204  0.09107159\n",
      "  -0.22381138  1.14018668 -0.29390796]]\n",
      "{'prediction': 'Planet', 'probability': 0.5302777777777777, 'ESI': np.float64(0.021)}\n"
     ]
    },
    {
     "data": {
      "text/plain": [
       "1.0"
      ]
     },
     "execution_count": 6,
     "metadata": {},
     "output_type": "execute_result"
    }
   ],
   "source": [
    "\n",
    "print(data[\"earth_like\"])\n",
    "print(detector_rf.random_forest(data[\"earth_like\"]))\n",
    "detector_rf.calculate_esi(data[\"earth_like\"][1], data[\"earth_like\"][2])"
   ]
  },
  {
   "cell_type": "code",
   "execution_count": 8,
   "id": "cce28baf",
   "metadata": {},
   "outputs": [],
   "source": [
    "# params = ExoParams()\n",
    "# params.depth = 0.01\n",
    "# params.period = 120\n",
    "# params.duration = 6.0 / 24.0\n",
    "# params.impact = 0.7\n",
    "# params.prad = 1.5\n",
    "# params.slog_g = 4.6\n",
    "# params.srad = 0.8 \n",
    "# params.teq = 400\n",
    "# params.steff = 4800\n",
    "\n",
    "earth_like_params = ExoParams()\n",
    "earth_like_params.period = 365.25    # Orbital period (days)\n",
    "earth_like_params.prad = 1.0         # Planet radius (Earth radii)\n",
    "earth_like_params.teq = 288.0        # Equilibrium temperature (Kelvin)\n",
    "earth_like_params.srad = 1.0         # Stellar radius (solar radii)\n",
    "earth_like_params.slog_g = 4.44      # Stellar surface gravity (log scale)\n",
    "earth_like_params.steff = 5778       # Stellar effective temperature (Kelvin)\n",
    "earth_like_params.impact = 0.0       # Impact parameter\n",
    "earth_like_params.duration = 13.0    # Transit duration (hours)\n",
    "earth_like_params.depth = 84.0   \n",
    "\n"
   ]
  },
  {
   "cell_type": "code",
   "execution_count": 12,
   "id": "f645bbf5",
   "metadata": {},
   "outputs": [
    {
     "name": "stdout",
     "output_type": "stream",
     "text": [
      "input array: [[ 0.21696578 -0.03375572 -0.94938527 -0.12126083  0.30602204  0.09107159\n",
      "  -0.22381138  1.14018668 -0.29390796]]\n",
      "{'prediction': 'Planet', 'probability': 0.5302777777777777, 'ESI': np.float64(0.021)}\n"
     ]
    }
   ],
   "source": [
    "print(detector_rf.random_forest(earth_like_params.to_feature_list()))"
   ]
  }
 ],
 "metadata": {
  "kernelspec": {
   "display_name": "py310",
   "language": "python",
   "name": "python3"
  },
  "language_info": {
   "codemirror_mode": {
    "name": "ipython",
    "version": 3
   },
   "file_extension": ".py",
   "mimetype": "text/x-python",
   "name": "python",
   "nbconvert_exporter": "python",
   "pygments_lexer": "ipython3",
   "version": "3.10.14"
  }
 },
 "nbformat": 4,
 "nbformat_minor": 5
}
