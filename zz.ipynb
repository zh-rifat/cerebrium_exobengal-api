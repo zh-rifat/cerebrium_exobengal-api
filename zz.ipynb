{
 "cells": [
  {
   "cell_type": "code",
   "execution_count": null,
   "id": "30dfc5d2",
   "metadata": {},
   "outputs": [
    {
     "name": "stderr",
     "output_type": "stream",
     "text": [
      "2025-09-30 20:27:39.353061: I tensorflow/core/platform/cpu_feature_guard.cc:210] This TensorFlow binary is optimized to use available CPU instructions in performance-critical operations.\n",
      "To enable the following instructions: AVX2 FMA, in other operations, rebuild TensorFlow with the appropriate compiler flags.\n"
     ]
    },
    {
     "name": "stdout",
     "output_type": "stream",
     "text": [
      "Model paths:\n",
      "Random Forest: /media/zh_rifat/UNIVERSE/zUniverse/Workspace/Programming/Web/project/exobengal-api/models/random_forest_classifier.pkl\n",
      "Decision Tree: /media/zh_rifat/UNIVERSE/zUniverse/Workspace/Programming/Web/project/exobengal-api/models/decision_tree_classifier.pkl\n",
      "/media/zh_rifat/UNIVERSE/zUniverse/Workspace/Programming/Web/project/exobengal-api/models/random_forest_classifier.pkl\n"
     ]
    }
   ],
   "source": [
    "from exobengal.exobengal import DetectExoplanet\n",
    "\n",
    "detector_rf = DetectExoplanet()\n",
    "# detector_dt = DetectExoplanet(\n",
    "#   # dt_model_path='./models/decision_tree_classifier.pkl',\n",
    "# )\n",
    "\n",
    "# detector_cnn = DetectExoplanet(\n",
    "#   # cnn_model_path='./models/cnn_model.h5',\n",
    "# )\n",
    "\n",
    "# detector_knn = DetectExoplanet(\n",
    "#   # knn_model_path='./models/knn_model.pkl',\n",
    "# )\n"
   ]
  },
  {
   "cell_type": "code",
   "execution_count": 3,
   "id": "09f38acd",
   "metadata": {},
   "outputs": [],
   "source": [
    "data = {\n",
    "  \"earth_like\": [365.25, 1.0, 288.0, 1.0, 4.44, 5778, 0.0, 13.0, 84.0],\n",
    "  \"hot_jupiter\": [3.5, 1.2, 1200.0, 1.1, 4.3, 6000, 0.2, 2.5, 5000.0],\n",
    "  \"super_earth\": [50.0, 1.8, 350.0, 0.9, 4.5, 5200, 0.3, 8.0, 250.0],\n",
    "  \"mini_neptune\": [12.0, 2.5, 600.0, 1.2, 4.2, 5800, 0.15, 4.0, 800.0],\n",
    "  \"cold_jupiter\": [2000.0, 11.0, 150.0, 1.0, 4.4, 5500, 0.8, 25.0, 8000.0],\n",
    "  \"venus_like\": [225.0, 0.95, 735.0, 1.0, 4.44, 5778, 0.1, 11.0, 80.0],\n",
    "  \"mars_like\": [687.0, 0.53, 210.0, 1.0, 4.44, 3389, 0.05, 18.0, 28.0],\n",
    "  \"eccentric_planet\": [120.0, 1.5, 400.0, 0.8, 4.6, 4800, 0.7, 6.0, 300.0],\n",
    "  \"very_close\": [0.8, 1.1, 2000.0, 1.3, 4.1, 6500, 0.0, 1.2, 2000.0],\n",
    "  \"distant_rocky\": [800.0, 0.8, 180.0, 0.7, 4.7, 4500, 0.4, 20.0, 45.0]\n",
    "}\n"
   ]
  },
  {
   "cell_type": "code",
   "execution_count": 6,
   "id": "d7071be9",
   "metadata": {},
   "outputs": [
    {
     "name": "stdout",
     "output_type": "stream",
     "text": [
      "{'prediction': 'Planet', 'probability': 0.5302777777777777, 'ESI': np.float64(0.021)}\n"
     ]
    },
    {
     "data": {
      "text/plain": [
       "1.0"
      ]
     },
     "execution_count": 6,
     "metadata": {},
     "output_type": "execute_result"
    }
   ],
   "source": [
    "\n",
    "print(detector_rf.random_forest(data[\"earth_like\"]))\n",
    "detector_rf.calculate_esi(data[\"earth_like\"][1], data[\"earth_like\"][2])"
   ]
  }
 ],
 "metadata": {
  "kernelspec": {
   "display_name": "py310",
   "language": "python",
   "name": "python3"
  },
  "language_info": {
   "codemirror_mode": {
    "name": "ipython",
    "version": 3
   },
   "file_extension": ".py",
   "mimetype": "text/x-python",
   "name": "python",
   "nbconvert_exporter": "python",
   "pygments_lexer": "ipython3",
   "version": "3.10.14"
  }
 },
 "nbformat": 4,
 "nbformat_minor": 5
}
